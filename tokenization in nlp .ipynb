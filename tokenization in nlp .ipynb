{
 "cells": [
  {
   "cell_type": "code",
   "execution_count": 5,
   "metadata": {},
   "outputs": [
    {
     "name": "stdout",
     "output_type": "stream",
     "text": [
      "showing info https://raw.githubusercontent.com/nltk/nltk_data/gh-pages/index.xml\n"
     ]
    },
    {
     "name": "stderr",
     "output_type": "stream",
     "text": [
      "[nltk_data] Downloading package punkt to\n",
      "[nltk_data]     C:\\Users\\Dell\\AppData\\Roaming\\nltk_data...\n",
      "[nltk_data]   Package punkt is already up-to-date!\n"
     ]
    },
    {
     "data": {
      "text/plain": [
       "True"
      ]
     },
     "execution_count": 5,
     "metadata": {},
     "output_type": "execute_result"
    }
   ],
   "source": [
    "#Tokenization of paragraphs/sentences\n",
    "import nltk\n",
    "nltk.download()\n",
    "nltk.download('punkt')"
   ]
  },
  {
   "cell_type": "code",
   "execution_count": 2,
   "metadata": {},
   "outputs": [],
   "source": [
    "paragraph = \"My Dear Fellow Citizens,India’s fight against the Corona global pandemic is moving ahead with great strength and steadfastness. It is only because of your restraint, penance and sacrifice that, India has so far been able to avert the harm caused by corona to a large extent. You have endured immense suffering to save your country, save your India.I am well aware of the problems you have faced -some for food, some for movement from place to place, and others for staying away from homes and families. However, for the sake of your country, you are fulfilling your duties like a disciplined soldier. This is the power of ‘We, the People of India’ that our constitution talks about.\""
   ]
  },
  {
   "cell_type": "code",
   "execution_count": 3,
   "metadata": {},
   "outputs": [],
   "source": [
    "#Tokenizing sentences\n",
    "sentences = nltk.sent_tokenize(paragraph) #paragraph is converted into sentences by using \"nltk.sent_tokenize\""
   ]
  },
  {
   "cell_type": "code",
   "execution_count": 4,
   "metadata": {},
   "outputs": [
    {
     "data": {
      "text/plain": [
       "['My Dear Fellow Citizens,India’s fight against the Corona global pandemic is moving ahead with great strength and steadfastness.',\n",
       " 'It is only because of your restraint, penance and sacrifice that, India has so far been able to avert the harm caused by corona to a large extent.',\n",
       " 'You have endured immense suffering to save your country, save your India.I am well aware of the problems you have faced -some for food, some for movement from place to place, and others for staying away from homes and families.',\n",
       " 'However, for the sake of your country, you are fulfilling your duties like a disciplined soldier.',\n",
       " 'This is the power of ‘We, the People of India’ that our constitution talks about.']"
      ]
     },
     "execution_count": 4,
     "metadata": {},
     "output_type": "execute_result"
    }
   ],
   "source": [
    "sentences"
   ]
  },
  {
   "cell_type": "code",
   "execution_count": 6,
   "metadata": {},
   "outputs": [],
   "source": [
    "#sentences is converted into words by using \"nltk.word\"\n",
    "words = nltk.word_tokenize(paragraph)"
   ]
  },
  {
   "cell_type": "code",
   "execution_count": 7,
   "metadata": {},
   "outputs": [
    {
     "data": {
      "text/plain": [
       "['My',\n",
       " 'Dear',\n",
       " 'Fellow',\n",
       " 'Citizens',\n",
       " ',',\n",
       " 'India',\n",
       " '’',\n",
       " 's',\n",
       " 'fight',\n",
       " 'against',\n",
       " 'the',\n",
       " 'Corona',\n",
       " 'global',\n",
       " 'pandemic',\n",
       " 'is',\n",
       " 'moving',\n",
       " 'ahead',\n",
       " 'with',\n",
       " 'great',\n",
       " 'strength',\n",
       " 'and',\n",
       " 'steadfastness',\n",
       " '.',\n",
       " 'It',\n",
       " 'is',\n",
       " 'only',\n",
       " 'because',\n",
       " 'of',\n",
       " 'your',\n",
       " 'restraint',\n",
       " ',',\n",
       " 'penance',\n",
       " 'and',\n",
       " 'sacrifice',\n",
       " 'that',\n",
       " ',',\n",
       " 'India',\n",
       " 'has',\n",
       " 'so',\n",
       " 'far',\n",
       " 'been',\n",
       " 'able',\n",
       " 'to',\n",
       " 'avert',\n",
       " 'the',\n",
       " 'harm',\n",
       " 'caused',\n",
       " 'by',\n",
       " 'corona',\n",
       " 'to',\n",
       " 'a',\n",
       " 'large',\n",
       " 'extent',\n",
       " '.',\n",
       " 'You',\n",
       " 'have',\n",
       " 'endured',\n",
       " 'immense',\n",
       " 'suffering',\n",
       " 'to',\n",
       " 'save',\n",
       " 'your',\n",
       " 'country',\n",
       " ',',\n",
       " 'save',\n",
       " 'your',\n",
       " 'India.I',\n",
       " 'am',\n",
       " 'well',\n",
       " 'aware',\n",
       " 'of',\n",
       " 'the',\n",
       " 'problems',\n",
       " 'you',\n",
       " 'have',\n",
       " 'faced',\n",
       " '-some',\n",
       " 'for',\n",
       " 'food',\n",
       " ',',\n",
       " 'some',\n",
       " 'for',\n",
       " 'movement',\n",
       " 'from',\n",
       " 'place',\n",
       " 'to',\n",
       " 'place',\n",
       " ',',\n",
       " 'and',\n",
       " 'others',\n",
       " 'for',\n",
       " 'staying',\n",
       " 'away',\n",
       " 'from',\n",
       " 'homes',\n",
       " 'and',\n",
       " 'families',\n",
       " '.',\n",
       " 'However',\n",
       " ',',\n",
       " 'for',\n",
       " 'the',\n",
       " 'sake',\n",
       " 'of',\n",
       " 'your',\n",
       " 'country',\n",
       " ',',\n",
       " 'you',\n",
       " 'are',\n",
       " 'fulfilling',\n",
       " 'your',\n",
       " 'duties',\n",
       " 'like',\n",
       " 'a',\n",
       " 'disciplined',\n",
       " 'soldier',\n",
       " '.',\n",
       " 'This',\n",
       " 'is',\n",
       " 'the',\n",
       " 'power',\n",
       " 'of',\n",
       " '‘',\n",
       " 'We',\n",
       " ',',\n",
       " 'the',\n",
       " 'People',\n",
       " 'of',\n",
       " 'India',\n",
       " '’',\n",
       " 'that',\n",
       " 'our',\n",
       " 'constitution',\n",
       " 'talks',\n",
       " 'about',\n",
       " '.']"
      ]
     },
     "execution_count": 7,
     "metadata": {},
     "output_type": "execute_result"
    }
   ],
   "source": [
    "words"
   ]
  },
  {
   "cell_type": "code",
   "execution_count": null,
   "metadata": {},
   "outputs": [],
   "source": []
  }
 ],
 "metadata": {
  "kernelspec": {
   "display_name": "Python 3",
   "language": "python",
   "name": "python3"
  },
  "language_info": {
   "codemirror_mode": {
    "name": "ipython",
    "version": 3
   },
   "file_extension": ".py",
   "mimetype": "text/x-python",
   "name": "python",
   "nbconvert_exporter": "python",
   "pygments_lexer": "ipython3",
   "version": "3.7.4"
  }
 },
 "nbformat": 4,
 "nbformat_minor": 2
}
